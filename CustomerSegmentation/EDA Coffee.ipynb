{
 "cells": [
  {
   "cell_type": "code",
   "execution_count": 2,
   "id": "afd5b6f9",
   "metadata": {},
   "outputs": [
    {
     "data": {
      "text/html": [
       "<div>\n",
       "<style scoped>\n",
       "    .dataframe tbody tr th:only-of-type {\n",
       "        vertical-align: middle;\n",
       "    }\n",
       "\n",
       "    .dataframe tbody tr th {\n",
       "        vertical-align: top;\n",
       "    }\n",
       "\n",
       "    .dataframe thead th {\n",
       "        text-align: right;\n",
       "    }\n",
       "</style>\n",
       "<table border=\"1\" class=\"dataframe\">\n",
       "  <thead>\n",
       "    <tr style=\"text-align: right;\">\n",
       "      <th></th>\n",
       "      <th>customer_id</th>\n",
       "      <th>product</th>\n",
       "      <th>model</th>\n",
       "      <th>purchase_date</th>\n",
       "      <th>gender</th>\n",
       "      <th>age</th>\n",
       "      <th>location</th>\n",
       "    </tr>\n",
       "  </thead>\n",
       "  <tbody>\n",
       "    <tr>\n",
       "      <th>0</th>\n",
       "      <td>b5abf5bad806</td>\n",
       "      <td>Coffee Machine</td>\n",
       "      <td>Model C</td>\n",
       "      <td>2023-01-26 14:58:50</td>\n",
       "      <td>Female</td>\n",
       "      <td>19</td>\n",
       "      <td>9</td>\n",
       "    </tr>\n",
       "    <tr>\n",
       "      <th>1</th>\n",
       "      <td>b5abf5bad806</td>\n",
       "      <td>Capsules</td>\n",
       "      <td>Capsule 3</td>\n",
       "      <td>2022-05-24 04:19:33</td>\n",
       "      <td>Female</td>\n",
       "      <td>19</td>\n",
       "      <td>9</td>\n",
       "    </tr>\n",
       "    <tr>\n",
       "      <th>2</th>\n",
       "      <td>b5abf5bad806</td>\n",
       "      <td>Coffee Machine</td>\n",
       "      <td>Model A</td>\n",
       "      <td>2022-11-25 01:12:47</td>\n",
       "      <td>Female</td>\n",
       "      <td>19</td>\n",
       "      <td>9</td>\n",
       "    </tr>\n",
       "    <tr>\n",
       "      <th>3</th>\n",
       "      <td>b5abf5bad806</td>\n",
       "      <td>Capsules</td>\n",
       "      <td>Capsule 4</td>\n",
       "      <td>2024-01-07 16:02:40</td>\n",
       "      <td>Female</td>\n",
       "      <td>19</td>\n",
       "      <td>9</td>\n",
       "    </tr>\n",
       "    <tr>\n",
       "      <th>4</th>\n",
       "      <td>b5abf5bad806</td>\n",
       "      <td>Capsules</td>\n",
       "      <td>Capsule 1</td>\n",
       "      <td>2022-07-06 11:25:25</td>\n",
       "      <td>Female</td>\n",
       "      <td>19</td>\n",
       "      <td>9</td>\n",
       "    </tr>\n",
       "  </tbody>\n",
       "</table>\n",
       "</div>"
      ],
      "text/plain": [
       "    customer_id         product      model        purchase_date  gender  age  \\\n",
       "0  b5abf5bad806  Coffee Machine    Model C  2023-01-26 14:58:50  Female   19   \n",
       "1  b5abf5bad806        Capsules  Capsule 3  2022-05-24 04:19:33  Female   19   \n",
       "2  b5abf5bad806  Coffee Machine    Model A  2022-11-25 01:12:47  Female   19   \n",
       "3  b5abf5bad806        Capsules  Capsule 4  2024-01-07 16:02:40  Female   19   \n",
       "4  b5abf5bad806        Capsules  Capsule 1  2022-07-06 11:25:25  Female   19   \n",
       "\n",
       "   location  \n",
       "0         9  \n",
       "1         9  \n",
       "2         9  \n",
       "3         9  \n",
       "4         9  "
      ]
     },
     "execution_count": 2,
     "metadata": {},
     "output_type": "execute_result"
    }
   ],
   "source": [
    "import pandas as pd\n",
    "import numpy as np\n",
    "import matplotlib.pyplot as plt\n",
    "import seaborn as sns\n",
    "\n",
    "df = pd.read_csv('C:/Users/Admin/Desktop/test projects/ML learn Assem/sales_data.csv')\n",
    "\n",
    "df.head()"
   ]
  },
  {
   "cell_type": "code",
   "execution_count": 3,
   "id": "1b806769",
   "metadata": {},
   "outputs": [
    {
     "data": {
      "text/plain": [
       "(100000, 7)"
      ]
     },
     "execution_count": 3,
     "metadata": {},
     "output_type": "execute_result"
    }
   ],
   "source": [
    "df.shape"
   ]
  },
  {
   "cell_type": "code",
   "execution_count": 4,
   "id": "5979918b",
   "metadata": {},
   "outputs": [
    {
     "name": "stdout",
     "output_type": "stream",
     "text": [
      "<class 'pandas.core.frame.DataFrame'>\n",
      "RangeIndex: 100000 entries, 0 to 99999\n",
      "Data columns (total 7 columns):\n",
      " #   Column         Non-Null Count   Dtype \n",
      "---  ------         --------------   ----- \n",
      " 0   customer_id    100000 non-null  object\n",
      " 1   product        100000 non-null  object\n",
      " 2   model          100000 non-null  object\n",
      " 3   purchase_date  100000 non-null  object\n",
      " 4   gender         100000 non-null  object\n",
      " 5   age            100000 non-null  int64 \n",
      " 6   location       100000 non-null  int64 \n",
      "dtypes: int64(2), object(5)\n",
      "memory usage: 5.3+ MB\n"
     ]
    }
   ],
   "source": [
    "df.info()"
   ]
  },
  {
   "cell_type": "code",
   "execution_count": 5,
   "id": "9e41bd7e",
   "metadata": {},
   "outputs": [
    {
     "data": {
      "text/plain": [
       "model\n",
       "Model C      16761\n",
       "Model B      16760\n",
       "Model A      16525\n",
       "Capsule 3    10016\n",
       "Capsule 5     9998\n",
       "Capsule 1     9987\n",
       "Capsule 2     9986\n",
       "Capsule 4     9967\n",
       "Name: count, dtype: int64"
      ]
     },
     "execution_count": 5,
     "metadata": {},
     "output_type": "execute_result"
    }
   ],
   "source": [
    "df.model.value_counts()"
   ]
  },
  {
   "cell_type": "code",
   "execution_count": 6,
   "id": "8aa5942e",
   "metadata": {},
   "outputs": [
    {
     "data": {
      "text/plain": [
       "gender\n",
       "Male      50191\n",
       "Female    49809\n",
       "Name: count, dtype: int64"
      ]
     },
     "execution_count": 6,
     "metadata": {},
     "output_type": "execute_result"
    }
   ],
   "source": [
    "df.gender.value_counts()"
   ]
  },
  {
   "cell_type": "markdown",
   "id": "6a6689d3",
   "metadata": {},
   "source": [
    "\n"
   ]
  },
  {
   "cell_type": "code",
   "execution_count": 10,
   "id": "86bcc533",
   "metadata": {},
   "outputs": [
    {
     "data": {
      "text/plain": [
       "age\n",
       "19    2527\n",
       "40    2227\n",
       "33    2222\n",
       "44    2206\n",
       "32    2201\n",
       "      ... \n",
       "55    1183\n",
       "75    1123\n",
       "54     996\n",
       "78     970\n",
       "67     868\n",
       "Name: count, Length: 63, dtype: int64"
      ]
     },
     "execution_count": 10,
     "metadata": {},
     "output_type": "execute_result"
    }
   ],
   "source": [
    "df.age.value_counts()"
   ]
  },
  {
   "cell_type": "code",
   "execution_count": null,
   "id": "c2a81c51",
   "metadata": {},
   "outputs": [],
   "source": []
  }
 ],
 "metadata": {
  "kernelspec": {
   "display_name": "Python 3 (ipykernel)",
   "language": "python",
   "name": "python3"
  },
  "language_info": {
   "codemirror_mode": {
    "name": "ipython",
    "version": 3
   },
   "file_extension": ".py",
   "mimetype": "text/x-python",
   "name": "python",
   "nbconvert_exporter": "python",
   "pygments_lexer": "ipython3",
   "version": "3.11.5"
  }
 },
 "nbformat": 4,
 "nbformat_minor": 5
}
