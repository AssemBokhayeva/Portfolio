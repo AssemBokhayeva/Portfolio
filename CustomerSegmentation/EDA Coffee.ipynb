{
 "cells": [
  {
   "cell_type": "code",
   "execution_count": 3,
   "id": "afd5b6f9",
   "metadata": {},
   "outputs": [
    {
     "data": {
      "text/html": [
       "<div>\n",
       "<style scoped>\n",
       "    .dataframe tbody tr th:only-of-type {\n",
       "        vertical-align: middle;\n",
       "    }\n",
       "\n",
       "    .dataframe tbody tr th {\n",
       "        vertical-align: top;\n",
       "    }\n",
       "\n",
       "    .dataframe thead th {\n",
       "        text-align: right;\n",
       "    }\n",
       "</style>\n",
       "<table border=\"1\" class=\"dataframe\">\n",
       "  <thead>\n",
       "    <tr style=\"text-align: right;\">\n",
       "      <th></th>\n",
       "      <th>customer_id</th>\n",
       "      <th>product</th>\n",
       "      <th>model</th>\n",
       "      <th>purchase_date</th>\n",
       "      <th>gender</th>\n",
       "      <th>age</th>\n",
       "      <th>location</th>\n",
       "    </tr>\n",
       "  </thead>\n",
       "  <tbody>\n",
       "    <tr>\n",
       "      <th>0</th>\n",
       "      <td>b7920d68cdde</td>\n",
       "      <td>Coffee Machine</td>\n",
       "      <td>Model B</td>\n",
       "      <td>2022-11-21 18:08:05</td>\n",
       "      <td>Female</td>\n",
       "      <td>62</td>\n",
       "      <td>5</td>\n",
       "    </tr>\n",
       "    <tr>\n",
       "      <th>1</th>\n",
       "      <td>b7920d68cdde</td>\n",
       "      <td>Coffee Machine</td>\n",
       "      <td>Model B</td>\n",
       "      <td>2023-01-11 03:01:00</td>\n",
       "      <td>Female</td>\n",
       "      <td>62</td>\n",
       "      <td>5</td>\n",
       "    </tr>\n",
       "    <tr>\n",
       "      <th>2</th>\n",
       "      <td>b7920d68cdde</td>\n",
       "      <td>Capsules</td>\n",
       "      <td>Capsule 3</td>\n",
       "      <td>2023-11-20 07:37:15</td>\n",
       "      <td>Female</td>\n",
       "      <td>62</td>\n",
       "      <td>5</td>\n",
       "    </tr>\n",
       "    <tr>\n",
       "      <th>3</th>\n",
       "      <td>b7920d68cdde</td>\n",
       "      <td>Capsules</td>\n",
       "      <td>Capsule 3</td>\n",
       "      <td>2022-06-26 18:38:06</td>\n",
       "      <td>Female</td>\n",
       "      <td>62</td>\n",
       "      <td>5</td>\n",
       "    </tr>\n",
       "    <tr>\n",
       "      <th>4</th>\n",
       "      <td>b7920d68cdde</td>\n",
       "      <td>Coffee Machine</td>\n",
       "      <td>Model C</td>\n",
       "      <td>2022-06-18 23:55:11</td>\n",
       "      <td>Female</td>\n",
       "      <td>62</td>\n",
       "      <td>5</td>\n",
       "    </tr>\n",
       "  </tbody>\n",
       "</table>\n",
       "</div>"
      ],
      "text/plain": [
       "    customer_id         product      model        purchase_date  gender  age  \\\n",
       "0  b7920d68cdde  Coffee Machine    Model B  2022-11-21 18:08:05  Female   62   \n",
       "1  b7920d68cdde  Coffee Machine    Model B  2023-01-11 03:01:00  Female   62   \n",
       "2  b7920d68cdde        Capsules  Capsule 3  2023-11-20 07:37:15  Female   62   \n",
       "3  b7920d68cdde        Capsules  Capsule 3  2022-06-26 18:38:06  Female   62   \n",
       "4  b7920d68cdde  Coffee Machine    Model C  2022-06-18 23:55:11  Female   62   \n",
       "\n",
       "   location  \n",
       "0         5  \n",
       "1         5  \n",
       "2         5  \n",
       "3         5  \n",
       "4         5  "
      ]
     },
     "execution_count": 3,
     "metadata": {},
     "output_type": "execute_result"
    }
   ],
   "source": [
    "import pandas as pd\n",
    "import numpy as np\n",
    "from sklearn.model_selection import train_test_split\n",
    "from sklearn.preprocessing import LabelEncoder, StandardScaler\n",
    "from sklearn.ensemble import RandomForestClassifier\n",
    "from sklearn.metrics import classification_report\n",
    "\n",
    "df = pd.read_csv('C:/Users/Admin/Desktop/projects/ML learn Assem/sales_data.csv')\n",
    "\n",
    "df.head()"
   ]
  },
  {
   "cell_type": "code",
   "execution_count": 4,
   "id": "1b806769",
   "metadata": {},
   "outputs": [
    {
     "data": {
      "text/plain": [
       "(100000, 7)"
      ]
     },
     "execution_count": 4,
     "metadata": {},
     "output_type": "execute_result"
    }
   ],
   "source": [
    "df.shape"
   ]
  },
  {
   "cell_type": "code",
   "execution_count": 5,
   "id": "5979918b",
   "metadata": {},
   "outputs": [
    {
     "name": "stdout",
     "output_type": "stream",
     "text": [
      "<class 'pandas.core.frame.DataFrame'>\n",
      "RangeIndex: 100000 entries, 0 to 99999\n",
      "Data columns (total 7 columns):\n",
      " #   Column         Non-Null Count   Dtype \n",
      "---  ------         --------------   ----- \n",
      " 0   customer_id    100000 non-null  object\n",
      " 1   product        100000 non-null  object\n",
      " 2   model          100000 non-null  object\n",
      " 3   purchase_date  100000 non-null  object\n",
      " 4   gender         100000 non-null  object\n",
      " 5   age            100000 non-null  int64 \n",
      " 6   location       100000 non-null  int64 \n",
      "dtypes: int64(2), object(5)\n",
      "memory usage: 5.3+ MB\n"
     ]
    }
   ],
   "source": [
    "df.info()"
   ]
  },
  {
   "cell_type": "code",
   "execution_count": 6,
   "id": "9e41bd7e",
   "metadata": {},
   "outputs": [
    {
     "data": {
      "text/plain": [
       "model\n",
       "Model C      16797\n",
       "Model B      16726\n",
       "Model A      16353\n",
       "Capsule 2    10150\n",
       "Capsule 4    10035\n",
       "Capsule 5     9997\n",
       "Capsule 3     9973\n",
       "Capsule 1     9969\n",
       "Name: count, dtype: int64"
      ]
     },
     "execution_count": 6,
     "metadata": {},
     "output_type": "execute_result"
    }
   ],
   "source": [
    "df.model.value_counts()"
   ]
  },
  {
   "cell_type": "code",
   "execution_count": 7,
   "id": "8aa5942e",
   "metadata": {},
   "outputs": [
    {
     "data": {
      "text/plain": [
       "gender\n",
       "Female    50169\n",
       "Male      49831\n",
       "Name: count, dtype: int64"
      ]
     },
     "execution_count": 7,
     "metadata": {},
     "output_type": "execute_result"
    }
   ],
   "source": [
    "df.gender.value_counts()"
   ]
  },
  {
   "cell_type": "code",
   "execution_count": 8,
   "id": "86bcc533",
   "metadata": {},
   "outputs": [
    {
     "data": {
      "text/plain": [
       "age\n",
       "49    2313\n",
       "22    2219\n",
       "21    2170\n",
       "44    2170\n",
       "32    2107\n",
       "      ... \n",
       "48     985\n",
       "70     970\n",
       "34     936\n",
       "68     775\n",
       "64     751\n",
       "Name: count, Length: 63, dtype: int64"
      ]
     },
     "execution_count": 8,
     "metadata": {},
     "output_type": "execute_result"
    }
   ],
   "source": [
    "df.age.value_counts()"
   ]
  },
  {
   "cell_type": "code",
   "execution_count": 9,
   "id": "c2a81c51",
   "metadata": {},
   "outputs": [
    {
     "name": "stdout",
     "output_type": "stream",
     "text": [
      "                precision    recall  f1-score   support\n",
      "\n",
      "      Capsules       0.49      0.50      0.50      9996\n",
      "Coffee Machine       0.49      0.49      0.49     10004\n",
      "\n",
      "      accuracy                           0.49     20000\n",
      "     macro avg       0.49      0.49      0.49     20000\n",
      "  weighted avg       0.49      0.49      0.49     20000\n",
      "\n",
      "Enter the purchase year (e.g., 2024): 2024\n",
      "Enter the purchase month (e.g., 6): 8\n",
      "Enter the purchase day (e.g., 15): 03\n",
      "Enter the age of the customer (e.g., 19): 25\n",
      "Enter the location (e.g., 9): 7\n",
      "Enter the gender of the customer (Male/Female): Female\n",
      "Predicted product for new data: Capsules\n"
     ]
    }
   ],
   "source": [
    "# модель случ дерево решении\n",
    "df['purchase_date'] = pd.to_datetime(df['purchase_date'])\n",
    "df['year'] = df['purchase_date'].dt.year\n",
    "df['month'] = df['purchase_date'].dt.month\n",
    "df['day'] = df['purchase_date'].dt.day\n",
    "\n",
    "le_product = LabelEncoder()\n",
    "df['product_encoded'] = le_product.fit_transform(df['product'])\n",
    "\n",
    "le_gender = LabelEncoder()\n",
    "df['gender_encoded'] = le_gender.fit_transform(df['gender'])\n",
    "\n",
    "\n",
    "X = df[['year', 'month', 'day', 'age', 'location', 'gender_encoded']]\n",
    "y = df['product_encoded']\n",
    "\n",
    "\n",
    "X_train, X_test, y_train, y_test = train_test_split(X, y, test_size=0.2, random_state=42)\n",
    "\n",
    "\n",
    "model = RandomForestClassifier(n_estimators=100, random_state=42)\n",
    "model.fit(X_train, y_train)\n",
    "\n",
    "y_pred = model.predict(X_test)\n",
    "\n",
    "print(classification_report(y_test, y_pred, target_names=le_product.classes_))\n",
    "\n",
    "def get_user_input():\n",
    "    year = int(input(\"Enter the purchase year (e.g., 2024): \"))\n",
    "    month = int(input(\"Enter the purchase month (e.g., 6): \"))\n",
    "    day = int(input(\"Enter the purchase day (e.g., 15): \"))\n",
    "    age = int(input(\"Enter the age of the customer (e.g., 19): \"))\n",
    "    location = int(input(\"Enter the location (e.g., 9): \"))\n",
    "    gender = input(\"Enter the gender of the customer (Male/Female): \")\n",
    "\n",
    "    # Кодирование введенного пола\n",
    "    gender_encoded = le_gender.transform([gender])[0]\n",
    "\n",
    "    return pd.DataFrame({\n",
    "        'year': [year],\n",
    "        'month': [month],\n",
    "        'day': [day],\n",
    "        'age': [age],\n",
    "        'location': [location],\n",
    "        'gender_encoded': [gender_encoded]\n",
    "    })\n",
    "\n",
    "# Пример использования модели для предсказания\n",
    "new_data = get_user_input()\n",
    "prediction = model.predict(new_data)\n",
    "predicted_product = le_product.inverse_transform(prediction)\n",
    "print(f\"Predicted product for new data: {predicted_product[0]}\")"
   ]
  },
  {
   "cell_type": "code",
   "execution_count": null,
   "id": "3deb52c3",
   "metadata": {},
   "outputs": [],
   "source": []
  }
 ],
 "metadata": {
  "kernelspec": {
   "display_name": "Python 3 (ipykernel)",
   "language": "python",
   "name": "python3"
  },
  "language_info": {
   "codemirror_mode": {
    "name": "ipython",
    "version": 3
   },
   "file_extension": ".py",
   "mimetype": "text/x-python",
   "name": "python",
   "nbconvert_exporter": "python",
   "pygments_lexer": "ipython3",
   "version": "3.11.5"
  }
 },
 "nbformat": 4,
 "nbformat_minor": 5
}
