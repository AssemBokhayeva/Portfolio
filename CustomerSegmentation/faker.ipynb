{
 "cells": [
  {
   "cell_type": "code",
   "execution_count": 8,
   "id": "42cb2671",
   "metadata": {},
   "outputs": [],
   "source": [
    "import pandas as pd\n",
    "import numpy as np\n",
    "import random\n",
    "from faker import Faker\n",
    "\n",
    "fake = Faker()\n",
    "\n",
    "# Генерация данных о клиентах\n",
    "def generate_customers(num_customers):\n",
    "    customers = []\n",
    "    for _ in range(num_customers):\n",
    "        customer = {\n",
    "            'customer_id': fake.uuid4().split('-')[-1],  # Сокращенный идентификатор пользователя\n",
    "            'gender': fake.random_element(['Male', 'Female']),\n",
    "            'age': random.randint(18, 80),\n",
    "            'location': random.randint(1, 10)  # Локация от 1 до 10\n",
    "        }\n",
    "        customers.append(customer)\n",
    "    return customers\n",
    "\n",
    "# Генерация данных о покупках\n",
    "def generate_sales(customers, num_sales):\n",
    "    sales = []\n",
    "    for _ in range(num_sales):\n",
    "        customer = random.choice(customers)\n",
    "        product = fake.random_element(['Coffee Machine', 'Capsules'])\n",
    "        purchase_date = fake.date_time_between(start_date='-2y', end_date='now')\n",
    "        if product == 'Coffee Machine':\n",
    "            model = fake.random_element(['Model A', 'Model B', 'Model C'])\n",
    "        else:\n",
    "            model =fake.random_element(['Capsule 1', 'Capsule 2', 'Capsule 3','Capsule 4','Capsule 5'])\n",
    "        sale = {\n",
    "            'customer_id': customer['customer_id'],\n",
    "            'product': product,\n",
    "            'model': model,\n",
    "            'purchase_date': purchase_date\n",
    "        }\n",
    "        sales.append(sale)\n",
    "    return sales\n",
    "\n",
    "# Создание DataFrame для клиентов\n",
    "customers = generate_customers(1000)\n",
    "customers_df = pd.DataFrame(customers)\n",
    "\n",
    "# Создание DataFrame для покупок\n",
    "sales = generate_sales(customers, 100000)\n",
    "sales_df = pd.DataFrame(sales)\n",
    "\n",
    "# Соединение данных о клиентах и покупках\n",
    "data = pd.merge(sales_df, customers_df, on='customer_id')\n",
    "\n",
    "\n",
    "\n",
    "# Сохранение данных в файл\n",
    "data.to_csv('C:/Users/Admin/Desktop/test projects/ML learn Assem/sales_data.csv', index=False)"
   ]
  },
  {
   "cell_type": "code",
   "execution_count": null,
   "id": "07565167",
   "metadata": {},
   "outputs": [],
   "source": []
  },
  {
   "cell_type": "code",
   "execution_count": null,
   "id": "705ebb7e",
   "metadata": {},
   "outputs": [],
   "source": []
  }
 ],
 "metadata": {
  "kernelspec": {
   "display_name": "Python 3 (ipykernel)",
   "language": "python",
   "name": "python3"
  },
  "language_info": {
   "codemirror_mode": {
    "name": "ipython",
    "version": 3
   },
   "file_extension": ".py",
   "mimetype": "text/x-python",
   "name": "python",
   "nbconvert_exporter": "python",
   "pygments_lexer": "ipython3",
   "version": "3.11.5"
  }
 },
 "nbformat": 4,
 "nbformat_minor": 5
}
